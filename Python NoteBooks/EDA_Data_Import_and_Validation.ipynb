{
 "cells": [
  {
   "cell_type": "markdown",
   "id": "ca5d8fe3",
   "metadata": {},
   "source": [
    "# Data Import and Validation\n",
    "\n",
    "This notebook covers importing e-commerce event data into SQL Server and validating the imported tables.\n"
   ]
  },
  {
   "cell_type": "code",
   "execution_count": null,
   "id": "5eea8117",
   "metadata": {},
   "outputs": [],
   "source": [
    "import pyodbc\n",
    "import pandas as pd\n",
    "import matplotlib.pyplot as plt\n",
    "import seaborn as sns\n",
    "\n",
    "# Try all available connection strings in order until one works\n",
    "candidates = [\n",
    "    # Named Pipes (if enabled)\n",
    "    r\"DRIVER={ODBC Driver 17 for SQL Server};SERVER=np:\\\\localhost\\pipe\\MSSQL$SQLEXPRESS\\sql\\query;DATABASE=Funnel_Purchases;Trusted_Connection=yes;\",\n",
    "    # LocalDB (if database is on LocalDB)\n",
    "    r\"DRIVER={ODBC Driver 17 for SQL Server};SERVER=(localdb)\\\\MSSQLLocalDB;DATABASE=Funnel_Purchases;Trusted_Connection=yes;\",\n",
    "    # SQL Auth (replace with your credentials if you have them)\n",
    "    r\"DRIVER={ODBC Driver 17 for SQL Server};SERVER=localhost\\\\SQLEXPRESS;DATABASE=Funnel_Purchases;UID=sa;PWD=YourPassword;\",\n",
    "]\n",
    "\n",
    "query = \"SELECT TOP 10 * FROM dbo.[2019-Oct]\"\n",
    "\n",
    "for conn_str in candidates:\n",
    "    try:\n",
    "        print(f\"Trying: {conn_str}\")\n",
    "        conn = pyodbc.connect(conn_str, timeout=5)\n",
    "        df = pd.read_sql(query, conn)\n",
    "        print(\"SUCCESS! Data preview:\")\n",
    "        print(df.head())\n",
    "        conn.close()\n",
    "        break\n",
    "    except Exception as e:\n",
    "        print(f\"FAILED: {type(e)} {e}\")\n",
    "        continue\n",
    "else:\n",
    "    print(\"All connection attempts failed. Please check your SQL Server configuration and credentials.\")"
   ]
  },
  {
   "cell_type": "code",
   "execution_count": null,
   "id": "9f4ee928",
   "metadata": {},
   "outputs": [],
   "source": [
    "# --- Helper: get a working DB connection from candidates ---\n",
    "def get_conn(timeout=30):\n",
    "    \"\"\"Try connection strings defined in `candidates` and return an open connection.\"\"\"\n",
    "    for conn_str in candidates:\n",
    "        try:\n",
    "            print(f\"Trying connection: {conn_str}\")\n",
    "            conn = pyodbc.connect(conn_str, timeout=timeout)\n",
    "            print('Connection established')\n",
    "            return conn\n",
    "        except Exception as e:\n",
    "            print(f\"Connection failed: {type(e).__name__}: {e}\")\n",
    "            continue\n",
    "    raise RuntimeError('All connection attempts failed - please check SQL Server access and credentials')\n",
    "\n",
    "# Example usage: conn = get_conn(); df = pd.read_sql_query(SQL, conn); conn.close()"
   ]
  },
  {
   "cell_type": "markdown",
   "id": "39b3bd17",
   "metadata": {},
   "source": [
    "## Optimization Note\n",
    "\n",
    "- Only import necessary columns for validation.\n",
    "- Use chunked loading for large tables.\n",
    "- Example: `SELECT event_time, event_type FROM dbo.[2019-Oct]`\n"
   ]
  }
 ],
 "metadata": {
  "language_info": {
   "name": "python"
  }
 },
 "nbformat": 4,
 "nbformat_minor": 5
}
